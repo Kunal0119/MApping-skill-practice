{
 "cells": [
  {
   "cell_type": "code",
   "execution_count": 1,
   "metadata": {},
   "outputs": [
    {
     "data": {
      "text/plain": [
       "208"
      ]
     },
     "execution_count": 1,
     "metadata": {},
     "output_type": "execute_result"
    }
   ],
   "source": [
    "#1. Write a Python program to sum all the items in a list.\n",
    "a=[21,32,54,100,1]\n",
    "sum(a)"
   ]
  },
  {
   "cell_type": "code",
   "execution_count": 84,
   "metadata": {},
   "outputs": [
    {
     "name": "stdout",
     "output_type": "stream",
     "text": [
      "252\n"
     ]
    }
   ],
   "source": [
    "#2. Write a Python program to multiplies all the items in a list.\n",
    "l=[2,3,6,7]\n",
    "f=1\n",
    "p=[]\n",
    "for i in l:\n",
    "    f=f*i\n",
    "    p.append(f)\n",
    "print(max(p))\n",
    "\n",
    " # same concept is used to print factorial of any number"
   ]
  },
  {
   "cell_type": "code",
   "execution_count": 87,
   "metadata": {},
   "outputs": [
    {
     "name": "stdout",
     "output_type": "stream",
     "text": [
      "252\n"
     ]
    }
   ],
   "source": [
    "# also we can perform\n",
    "from functools import reduce\n",
    "l=[2,3,6,7]\n",
    "al=reduce(lambda a,b:a*b,l)\n",
    "print(al)"
   ]
  },
  {
   "cell_type": "code",
   "execution_count": 2,
   "metadata": {},
   "outputs": [
    {
     "data": {
      "text/plain": [
       "100"
      ]
     },
     "execution_count": 2,
     "metadata": {},
     "output_type": "execute_result"
    }
   ],
   "source": [
    "#3. Write a Python program to get the largest number from a list.\n",
    "max(a)"
   ]
  },
  {
   "cell_type": "code",
   "execution_count": 3,
   "metadata": {},
   "outputs": [
    {
     "data": {
      "text/plain": [
       "1"
      ]
     },
     "execution_count": 3,
     "metadata": {},
     "output_type": "execute_result"
    }
   ],
   "source": [
    "#4. Write a Python program to get the smallest number from a list.\n",
    "min(a)"
   ]
  },
  {
   "cell_type": "code",
   "execution_count": 5,
   "metadata": {},
   "outputs": [
    {
     "data": {
      "text/plain": [
       "2"
      ]
     },
     "execution_count": 5,
     "metadata": {},
     "output_type": "execute_result"
    }
   ],
   "source": [
    "#5. Write a Python program to count the number of strings where the string length is 2 or more and the first and last character are same from a given list of strings.\n",
    "Spl=['abc', 'xyz', 'aba', '1221']\n",
    "p=[]\n",
    "for i in Spl:\n",
    "    if i[0]==i[-1]:\n",
    "        p.append(i)\n",
    "len(p)\n",
    "        "
   ]
  },
  {
   "cell_type": "code",
   "execution_count": null,
   "metadata": {},
   "outputs": [],
   "source": [
    "#6. Write a Python program to get a list, sorted in increasing order by the last element in each tuple from a given list of non-empty tuples.\n"
   ]
  },
  {
   "cell_type": "code",
   "execution_count": 10,
   "metadata": {},
   "outputs": [
    {
     "name": "stdout",
     "output_type": "stream",
     "text": [
      "['apple', 'mango', 'banana', 'moon']\n"
     ]
    }
   ],
   "source": [
    "#7. Write a Python program to remove duplicates from a list.\n",
    "dup_list=[\"apple\",\"mango\",\"apple\",\"banana\",\"moon\",\"moon\"]\n",
    "lisst=[]\n",
    "for i in dup_list:\n",
    "    if i not in lisst:\n",
    "        lisst.append(i)\n",
    "dup_list=lisst\n",
    "print(dup_list)"
   ]
  },
  {
   "cell_type": "code",
   "execution_count": 24,
   "metadata": {},
   "outputs": [
    {
     "name": "stdout",
     "output_type": "stream",
     "text": [
      "list Empty\n"
     ]
    }
   ],
   "source": [
    "#8. Write a Python program to check a list is empty or not.\n",
    "empty=[]\n",
    "if len(emp)==len(empty):\n",
    "    print(\"list Empty\")\n",
    "else:\n",
    "    print(\"List is not empty\")\n",
    "        "
   ]
  },
  {
   "cell_type": "code",
   "execution_count": 27,
   "metadata": {},
   "outputs": [
    {
     "data": {
      "text/plain": [
       "['apple', 'mango', 'banana', 'moon']"
      ]
     },
     "execution_count": 27,
     "metadata": {},
     "output_type": "execute_result"
    }
   ],
   "source": [
    "#9. Write a Python program to clone or copy a list.\n",
    "copy_list=dup_list\n",
    "copy_list"
   ]
  },
  {
   "cell_type": "code",
   "execution_count": 28,
   "metadata": {},
   "outputs": [
    {
     "data": {
      "text/plain": [
       "True"
      ]
     },
     "execution_count": 28,
     "metadata": {},
     "output_type": "execute_result"
    }
   ],
   "source": [
    "copy_list==dup_list"
   ]
  },
  {
   "cell_type": "code",
   "execution_count": 60,
   "metadata": {},
   "outputs": [
    {
     "name": "stdout",
     "output_type": "stream",
     "text": [
      "['orange', 'kaalu', 'mann']\n"
     ]
    }
   ],
   "source": [
    "#10. Write a Python program to find the list of words that are longer than n from a given list of words.\n",
    "A=[\"app\",\"mac\",\"max\",\"orange\",\"or\",\"y\",\"kaalu\",\"mann\"]\n",
    "B=[]\n",
    "for i in A:\n",
    "    if len(i)>3:\n",
    "        B.append(i)\n",
    "print(B)"
   ]
  },
  {
   "cell_type": "code",
   "execution_count": 59,
   "metadata": {},
   "outputs": [
    {
     "data": {
      "text/plain": [
       "True"
      ]
     },
     "execution_count": 59,
     "metadata": {},
     "output_type": "execute_result"
    }
   ],
   "source": [
    "#11. Write a Python function that takes two lists and returns True if they have at least one common member\n",
    "A=[\"app\",\"mac\",\"max\",\"orange\",\"or\",\"y\",\"kaalu\",\"mann\"]\n",
    "B=['orange', 'kaalu', 'mann']\n",
    "C=[]\n",
    "def common(A,B):\n",
    "    for i in A:\n",
    "        if i in B:\n",
    "            C.append(i)\n",
    "        else:\n",
    "            pass\n",
    "    if len(C)>=1:\n",
    "        return True\n",
    "common(A,B)\n",
    "\n"
   ]
  },
  {
   "cell_type": "code",
   "execution_count": 21,
   "metadata": {},
   "outputs": [
    {
     "name": "stdout",
     "output_type": "stream",
     "text": [
      "['Green', 'White', 'Black']\n"
     ]
    }
   ],
   "source": [
    "#12. Write a Python program to print a specified list after removing the 0th, 4th and 5th elements.\n",
    "A= ['Red', 'Green', 'White', 'Black', 'Pink', 'Yellow']\n",
    "new_list=[]\n",
    "for i in range(len(A)):\n",
    "    if i==0 or i==4 or i==5:\n",
    "        pass\n",
    "    else:\n",
    "        new_list.append(A[i])\n",
    "        \n",
    "print(new_list)"
   ]
  },
  {
   "cell_type": "code",
   "execution_count": 22,
   "metadata": {},
   "outputs": [],
   "source": [
    "#13. Write a Python program to generate a 3*4*6 3D array whose each element is *.\n"
   ]
  },
  {
   "cell_type": "code",
   "execution_count": 47,
   "metadata": {},
   "outputs": [
    {
     "name": "stdout",
     "output_type": "stream",
     "text": [
      "23\n",
      "35\n",
      "7\n"
     ]
    }
   ],
   "source": [
    "#14. Write a Python program to print the numbers of a specified list after removing even numbers from it.\n",
    "A=[10,23,35,7,82,12,14]\n",
    "for i in A:\n",
    "    if i%2==0:\n",
    "        pass\n",
    "    else:\n",
    "        print(i)"
   ]
  },
  {
   "cell_type": "code",
   "execution_count": 32,
   "metadata": {},
   "outputs": [
    {
     "ename": "AttributeError",
     "evalue": "'list' object has no attribute 'random'",
     "output_type": "error",
     "traceback": [
      "\u001b[1;31m---------------------------------------------------------------------------\u001b[0m",
      "\u001b[1;31mAttributeError\u001b[0m                            Traceback (most recent call last)",
      "\u001b[1;32m<ipython-input-32-3caa1b5a8c08>\u001b[0m in \u001b[0;36m<module>\u001b[1;34m\u001b[0m\n\u001b[0;32m      1\u001b[0m \u001b[1;31m#15. Write a Python program to shuffle and print a specified list\u001b[0m\u001b[1;33m\u001b[0m\u001b[1;33m\u001b[0m\u001b[1;33m\u001b[0m\u001b[0m\n\u001b[1;32m----> 2\u001b[1;33m \u001b[0mprint\u001b[0m\u001b[1;33m(\u001b[0m\u001b[0mA\u001b[0m\u001b[1;33m.\u001b[0m\u001b[0mrandom\u001b[0m\u001b[1;33m(\u001b[0m\u001b[1;33m)\u001b[0m\u001b[1;33m)\u001b[0m\u001b[1;33m\u001b[0m\u001b[1;33m\u001b[0m\u001b[0m\n\u001b[0m",
      "\u001b[1;31mAttributeError\u001b[0m: 'list' object has no attribute 'random'"
     ]
    }
   ],
   "source": [
    "#15. Write a Python program to shuffle and print a specified list\n",
    "print(A.random())"
   ]
  },
  {
   "cell_type": "code",
   "execution_count": 3,
   "metadata": {},
   "outputs": [
    {
     "name": "stdout",
     "output_type": "stream",
     "text": [
      "3.7.6 (default, Jan  8 2020, 20:23:39) [MSC v.1916 64 bit (AMD64)]\n"
     ]
    }
   ],
   "source": [
    "import sys\n",
    "print(sys.version)"
   ]
  },
  {
   "cell_type": "code",
   "execution_count": 4,
   "metadata": {},
   "outputs": [
    {
     "name": "stdout",
     "output_type": "stream",
     "text": [
      "2021-05-19 19:17:14.191493\n"
     ]
    }
   ],
   "source": [
    "import datetime\n",
    "print(datetime.datetime.now())"
   ]
  },
  {
   "cell_type": "code",
   "execution_count": 15,
   "metadata": {},
   "outputs": [
    {
     "name": "stdout",
     "output_type": "stream",
     "text": [
      "radius1.1\n",
      "3.8013271108436504\n"
     ]
    }
   ],
   "source": [
    "import math\n",
    "rad=float(input(\"radius\"))\n",
    "Area=math.pi*(rad**2)\n",
    "print(Area)"
   ]
  },
  {
   "cell_type": "code",
   "execution_count": null,
   "metadata": {},
   "outputs": [],
   "source": [
    "def name(fname,lname):\n",
    "    print(\"Hello\",lname,fname)\n",
    "if __name__=='__main__':\n",
    "    f=input(\"Enter First name=\")\n",
    "    l=input(\"Enter last name=\")\n",
    "    name(f,l)"
   ]
  },
  {
   "cell_type": "code",
   "execution_count": null,
   "metadata": {},
   "outputs": [],
   "source": [
    "def name(fname,lname):\n",
    "    print(\"Hello\",lname,fname)\n",
    "if __name__=='__main__':\n",
    "    f=input(\"Enter First name=\")\n",
    "    l=input(\"Enter last name=\")\n",
    "    name(f,l)"
   ]
  },
  {
   "cell_type": "code",
   "execution_count": 1,
   "metadata": {},
   "outputs": [
    {
     "name": "stdout",
     "output_type": "stream",
     "text": [
      "Kunal\n",
      "Chaudhary\n",
      "Chaudhary Kunal\n"
     ]
    }
   ],
   "source": [
    "f=input(\"\")\n",
    "l=input(\"\")\n",
    "print(l+\" \"+f)"
   ]
  },
  {
   "cell_type": "code",
   "execution_count": 6,
   "metadata": {},
   "outputs": [
    {
     "name": "stdout",
     "output_type": "stream",
     "text": [
      "3\n",
      "5\n",
      "6\n",
      "4\n",
      "('5', '6', '4')\n",
      "['5', '6', '4']\n"
     ]
    }
   ],
   "source": [
    "# Write a Python program which accepts a sequence of comma-separated numbers from user and generate a list and a tuple with those numbers.\n",
    "L=[]\n",
    "n=int(input())\n",
    "for i in range(n):\n",
    "    A=int(input(''))\n",
    "    L.append(str(A))\n",
    "M=L.copy()\n",
    "print(tuple(M))\n",
    "print(L)\n",
    "\n",
    "\n",
    "    "
   ]
  },
  {
   "cell_type": "code",
   "execution_count": 18,
   "metadata": {},
   "outputs": [
    {
     "name": "stdout",
     "output_type": "stream",
     "text": [
      "abc.java\n",
      "extension of file is  java\n"
     ]
    }
   ],
   "source": [
    "# Write a Python program to accept a filename from the user and print the extension of that.\n",
    "flnm=input(\"\")\n",
    "i=flnm.find('.')\n",
    "print(\"extension of file is \",flnm[i+1:])\n"
   ]
  },
  {
   "cell_type": "code",
   "execution_count": 19,
   "metadata": {},
   "outputs": [
    {
     "name": "stdout",
     "output_type": "stream",
     "text": [
      "Red Black\n"
     ]
    }
   ],
   "source": [
    "# Write a Python program to display the first and last colors from the following list.\n",
    "A=[\"Red\",\"Green\",\"White\" ,\"Black\"]\n",
    "print(A[0],A[-1])"
   ]
  },
  {
   "cell_type": "code",
   "execution_count": 6,
   "metadata": {},
   "outputs": [
    {
     "name": "stdout",
     "output_type": "stream",
     "text": [
      "The examination will start from : 11 / 12 / 2014\n"
     ]
    }
   ],
   "source": [
    "# Write a Python program to display the examination schedule. (extract the date from exam_st_date) (11, 12, 2014)\n",
    "exam_st_date = (11,12,2014)\n",
    "print( \"The examination will start from : %i / %i / %i\"%exam_st_date)"
   ]
  },
  {
   "cell_type": "code",
   "execution_count": 26,
   "metadata": {},
   "outputs": [
    {
     "name": "stdout",
     "output_type": "stream",
     "text": [
      "2014\n"
     ]
    }
   ],
   "source": [
    "import datetime\n",
    "x=datetime.date(2014,12,11)\n",
    "print(x.year)"
   ]
  },
  {
   "cell_type": "code",
   "execution_count": null,
   "metadata": {},
   "outputs": [],
   "source": []
  },
  {
   "cell_type": "code",
   "execution_count": 4,
   "metadata": {},
   "outputs": [
    {
     "name": "stdout",
     "output_type": "stream",
     "text": [
      "5\n"
     ]
    },
    {
     "data": {
      "text/plain": [
       "155"
      ]
     },
     "execution_count": 4,
     "metadata": {},
     "output_type": "execute_result"
    }
   ],
   "source": [
    "# Write a Python program that accepts an integer (n) and computes the value of n+nn+nnn.\n",
    "n= int(input(),base=10)\n",
    "def fun(n):\n",
    "     return n+(n*n)+(n*n*n)\n",
    "fun(n)"
   ]
  },
  {
   "cell_type": "code",
   "execution_count": 5,
   "metadata": {},
   "outputs": [
    {
     "name": "stdout",
     "output_type": "stream",
     "text": [
      "Input an integer : 5\n",
      "615\n"
     ]
    }
   ],
   "source": [
    "#doubt\n",
    "a = int(input(\"Input an integer : \"))\n",
    "n1 = int( \"%s\" % a )\n",
    "n2 = int( \"%s%s\" % (a,a) )\n",
    "n3 = int( \"%s%s%s\" % (a,a,a) )\n",
    "print (n1+n2+n3)\n"
   ]
  },
  {
   "cell_type": "code",
   "execution_count": 7,
   "metadata": {},
   "outputs": [
    {
     "name": "stdout",
     "output_type": "stream",
     "text": [
      "10\n",
      "20\n"
     ]
    }
   ],
   "source": [
    "class Node():\n",
    "    def __init__(self, data):\n",
    "        self.data = data\n",
    "\n",
    "a = Node(10)\n",
    "b = Node(20)\n",
    "\n",
    "a.next = b\n",
    "b.next = None\n",
    "\n",
    "print(a.data)\n",
    "print(a.next.data)"
   ]
  },
  {
   "cell_type": "code",
   "execution_count": 15,
   "metadata": {},
   "outputs": [
    {
     "name": "stdout",
     "output_type": "stream",
     "text": [
      "20\n"
     ]
    }
   ],
   "source": [
    "print(b.data)"
   ]
  },
  {
   "cell_type": "code",
   "execution_count": null,
   "metadata": {},
   "outputs": [],
   "source": [
    "class Node():\n",
    "def __init__(self, data):\n",
    "  self.data = data\n",
    "  self.next = None\n",
    "\n",
    "class LinkedList():\n",
    "def __init__(self, data):\n",
    "  a = Node(data)\n",
    "  self.head = a\n",
    "\n",
    "def traversal(l):\n",
    "temp = l.head #temporary pointer to point to head\n",
    "\n",
    "a = ''\n",
    "while temp != None: #iterating over linked list\n",
    "  a = a+str(temp.data)+'\\t'\n",
    "  temp = temp.next\n",
    "\n",
    "print(a)\n",
    "\n",
    "def insert_at_beginning(l, n):\n",
    "n.next = l.head\n",
    "l.head = n\n",
    "\n",
    "def insert_at_last(l, n):\n",
    "temp = l.head\n",
    "\n",
    "while temp.next != None:\n",
    "  temp = temp.next\n",
    "\n",
    "temp.next = n\n",
    "\n",
    "def insert_node_after(n, a):\n",
    "n.next = a.next\n",
    "a.next = n\n",
    "\n",
    "def delete(l, n):\n",
    "temp = l.head\n",
    "if temp == n: #node to be deleted is head\n",
    "  l.head = n.next\n",
    "  del n\n",
    "else: #node to be deleted is not head\n",
    "  while temp != None:\n",
    "    if temp.next == n: #node previous to node to be deleted\n",
    "      temp.next = n.next\n",
    "      del n\n",
    "      break #breaking the loop after deleting the node\n",
    "    temp = temp.next\n",
    "\n",
    "if __name__ == '__main__':\n",
    "l = LinkedList(10)\n",
    "\n",
    "a = Node(20)\n",
    "b = Node(50)\n",
    "c = Node(60)\n",
    "\n",
    "#connecting to linked list\n",
    "'''\n",
    "   ----     ----     ----     ----\n",
    "  |head|-->| a  |-->|  b |-->|  c |-->NULL\n",
    "  |____|   |____|   |____|   |____|\n",
    "'''\n",
    "\n",
    "l.head.next = a\n",
    "a.next = b\n",
    "b.next = c\n",
    "\n",
    "traversal(l)\n",
    "ins\n",
    "z = Node(0)\n",
    "insert_at_beginning(l, z)\n",
    "z = Node(-10)\n",
    "insert_at_beginning(l, z)\n",
    "\n",
    "z = Node(100)\n",
    "insert_at_last(l, z)\n",
    "\n",
    "z = Node(30)\n",
    "insert_node_after(z, a)\n",
    "z = Node(40)\n",
    "insert_node_after(z, a.next)\n",
    "z = Node(500)\n",
    "insert_node_after(z, a.next.next)\n",
    "\n",
    "traversal(l)\n",
    "\n",
    "delete(l, l.head)\n",
    "delete(l, z)\n",
    "\n",
    "traversal(l)"
   ]
  }
 ],
 "metadata": {
  "kernelspec": {
   "display_name": "Python 3",
   "language": "python",
   "name": "python3"
  },
  "language_info": {
   "codemirror_mode": {
    "name": "ipython",
    "version": 3
   },
   "file_extension": ".py",
   "mimetype": "text/x-python",
   "name": "python",
   "nbconvert_exporter": "python",
   "pygments_lexer": "ipython3",
   "version": "3.7.6"
  }
 },
 "nbformat": 4,
 "nbformat_minor": 4
}
